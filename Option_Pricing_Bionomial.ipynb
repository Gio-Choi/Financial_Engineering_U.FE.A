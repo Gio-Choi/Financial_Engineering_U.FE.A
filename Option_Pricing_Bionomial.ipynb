{
 "cells": [
  {
   "cell_type": "markdown",
   "metadata": {},
   "source": [
    "## Option pricing by binomial tree"
   ]
  },
  {
   "cell_type": "markdown",
   "metadata": {},
   "source": [
    "### 설정 \n",
    "\n",
    "- 무위험 이자율 r\n",
    "\n",
    "- 변동성 sigma\n",
    "\n",
    "- 현재 주가 S0\n",
    "\n",
    "- 만기 T(년)\n",
    "\n",
    "- 행사가격 E\n",
    "\n",
    "가 주어졌을 때의 call/put option pricing \n",
    "\n",
    "구간길이,time step은 하루, 즉 1/365(년)으로 설정"
   ]
  },
  {
   "cell_type": "markdown",
   "metadata": {},
   "source": [
    "### 과정\n",
    "1) 주식가격부터 pricing하며 tree 채우기 \n",
    "\n",
    "2) backward calculation으로 옵션가치 구하기"
   ]
  },
  {
   "cell_type": "code",
   "execution_count": null,
   "metadata": {},
   "outputs": [],
   "source": [
    "#넘파이로 배열, 자연로그, 제곱근 사용\n",
    "import numpy as np"
   ]
  },
  {
   "cell_type": "code",
   "execution_count": null,
   "metadata": {
    "lines_to_next_cell": 2
   },
   "outputs": [],
   "source": [
    "def Binomial(S0, E, r, sigma, T, PutCall):  \n",
    "    \n",
    "    time_step = 1/365 \n",
    "    DiscountFactor = np.exp(-r * time_step)\n",
    "    \n",
    "    temp1 = np.exp((r + sigma * sigma) * time_step)   #temp1이 뭔지...?\n",
    "    temp2 = 0.5 * (DiscountFactor + temp1)\n",
    "        \n",
    "    u = temp2 + np.sqrt(temp2 * temp2 - 1)    \n",
    "    d = 1/u\n",
    "    p = (np.exp(r*time_step)-d) / (u-d) \n",
    "    \n",
    "    \n",
    "    #Binomial tree(Stock Price)\n",
    "    stockvalue = np.zeros((n+1, n+1))\n",
    "    stockvalue[0,0] = S0\n",
    "    for i in range (1, n+1) :\n",
    "        for j in range (i+1) :\n",
    "            if (j == 0) : # 각 node의 맨위\n",
    "                stockvalue[i,j] = stockvalue[i-1,j] * u\n",
    "            elif (j == i) : # 각 node의 맨아래\n",
    "                stockvalue[i,j] = stockvalue[i-1,j-1] * d\n",
    "            else : # 각 node의 중간\n",
    "                stockvalue[i,j] = stockvalue[i-1,j-1] * d + stockvalue[i-1,j] * u            \n",
    "    \n",
    "    #option price at final node   \n",
    "    optionvalue = np.zeros((n+1,n+1))\n",
    "    for j in range(n+1):      \n",
    "        if PutCall==\"Put\": # Put\n",
    "            optionvalue[n,j] = max(0, E - stockvalue[n,j])\n",
    "        elif PutCall==\"Call\": # Call\n",
    "             optionvalue[n,j] = max(0, stockvalue[n,j] - E)\n",
    "                \n",
    "    #backward calculation for option price    \n",
    "    for i in range(n-1,-1,-1):\n",
    "        for j in range(i+1):                \n",
    "            optionvalue[i,j] = DiscountFactor*(p*optionvalue[i+1,j]+(1-p)*optionvalue[i+1,j+1])\n",
    "            \n",
    "    return optionvalue[0,0]"
   ]
  },
  {
   "cell_type": "code",
   "execution_count": null,
   "metadata": {},
   "outputs": [],
   "source": [
    "# S0 = 100, E = 105, r = 0.06, v = 0.4, T= 1, \"Call\" \n",
    "Binomial(100, 105, 0.06, 0.4, 1, \"Call\") "
   ]
  },
  {
   "cell_type": "code",
   "execution_count": null,
   "metadata": {},
   "outputs": [],
   "source": []
  }
 ],
 "metadata": {
  "jupytext": {
   "encoding": "# -*- coding: utf-8 -*-",
   "formats": "ipynb,py:light"
  },
  "kernelspec": {
   "display_name": "Python 3",
   "language": "python",
   "name": "python3"
  },
  "language_info": {
   "codemirror_mode": {
    "name": "ipython",
    "version": 3
   },
   "file_extension": ".py",
   "mimetype": "text/x-python",
   "name": "python",
   "nbconvert_exporter": "python",
   "pygments_lexer": "ipython3",
   "version": "3.8.5"
  }
 },
 "nbformat": 4,
 "nbformat_minor": 4
}
